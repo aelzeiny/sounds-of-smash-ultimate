{
 "cells": [
  {
   "cell_type": "code",
   "execution_count": 1,
   "id": "d3b73495",
   "metadata": {},
   "outputs": [],
   "source": [
    "import requests"
   ]
  },
  {
   "cell_type": "code",
   "execution_count": 2,
   "id": "58741305",
   "metadata": {},
   "outputs": [],
   "source": [
    "imgs = [\n",
    "    \"https://www.smashbros.com/assets_v2/img/fighter/thumb_h/packun_flower.png\",\n",
    "    \"https://www.smashbros.com/assets_v2/img/fighter/thumb_h/joker.png\",\n",
    "    \"https://www.smashbros.com/assets_v2/img/fighter/thumb_h/dq_hero.png\",\n",
    "    \"https://www.smashbros.com/assets_v2/img/fighter/thumb_h/banjo_and_kazooie.png\",\n",
    "    \"https://www.smashbros.com/assets_v2/img/fighter/thumb_h/terry.png\",\n",
    "    \"https://www.smashbros.com/assets_v2/img/fighter/thumb_h/byleth.png\",\n",
    "    \"https://www.smashbros.com/assets_v2/img/fighter/thumb_h/minmin.png\",\n",
    "    \"https://www.smashbros.com/assets_v2/img/fighter/thumb_h/steve.png\",\n",
    "    \"https://www.smashbros.com/assets_v2/img/fighter/thumb_h/sephiroth.png\",\n",
    "    \"https://www.smashbros.com/assets_v2/img/fighter/thumb_h/homura.png\",\n",
    "    \"https://www.smashbros.com/assets_v2/img/fighter/thumb_h/kazuya.png\",\n",
    "    \"https://www.smashbros.com/assets_v2/img/fighter/thumb_h/sora.png\",\n",
    "    \"https://www.smashbros.com/assets_v2/img/fighter/thumb_h/mario.png\",\n",
    "    \"https://www.smashbros.com/assets_v2/img/fighter/thumb_h/donkey_kong.png\",\n",
    "    \"https://www.smashbros.com/assets_v2/img/fighter/thumb_h/link.png\",\n",
    "    \"https://www.smashbros.com/assets_v2/img/fighter/thumb_h/samus.png\",\n",
    "    \"https://www.smashbros.com/assets_v2/img/fighter/thumb_h/dark_samus.png\",\n",
    "    \"https://www.smashbros.com/assets_v2/img/fighter/thumb_h/yoshi.png\",\n",
    "    \"https://www.smashbros.com/assets_v2/img/fighter/thumb_h/kirby.png\",\n",
    "    \"https://www.smashbros.com/assets_v2/img/fighter/thumb_h/fox.png\",\n",
    "    \"https://www.smashbros.com/assets_v2/img/fighter/thumb_h/pikachu.png\",\n",
    "    \"https://www.smashbros.com/assets_v2/img/fighter/thumb_h/luigi.png\",\n",
    "    \"https://www.smashbros.com/assets_v2/img/fighter/thumb_h/ness.png\",\n",
    "    \"https://www.smashbros.com/assets_v2/img/fighter/thumb_h/captain_falcon.png\",\n",
    "    \"https://www.smashbros.com/assets_v2/img/fighter/thumb_h/jigglypuff.png\",\n",
    "    \"https://www.smashbros.com/assets_v2/img/fighter/thumb_h/peach.png\",\n",
    "    \"https://www.smashbros.com/assets_v2/img/fighter/thumb_h/daisy.png\",\n",
    "    \"https://www.smashbros.com/assets_v2/img/fighter/thumb_h/bowser.png\",\n",
    "    \"https://www.smashbros.com/assets_v2/img/fighter/thumb_h/ice_climbers.png\",\n",
    "    \"https://www.smashbros.com/assets_v2/img/fighter/thumb_h/sheik.png\",\n",
    "    \"https://www.smashbros.com/assets_v2/img/fighter/thumb_h/zelda.png\",\n",
    "    \"https://www.smashbros.com/assets_v2/img/fighter/thumb_h/dr_mario.png\",\n",
    "    \"https://www.smashbros.com/assets_v2/img/fighter/thumb_h/pichu.png\",\n",
    "    \"https://www.smashbros.com/assets_v2/img/fighter/thumb_h/falco.png\",\n",
    "    \"https://www.smashbros.com/assets_v2/img/fighter/thumb_h/marth.png\",\n",
    "    \"https://www.smashbros.com/assets_v2/img/fighter/thumb_h/lucina.png\",\n",
    "    \"https://www.smashbros.com/assets_v2/img/fighter/thumb_h/young_link.png\",\n",
    "    \"https://www.smashbros.com/assets_v2/img/fighter/thumb_h/ganondorf.png\",\n",
    "    \"https://www.smashbros.com/assets_v2/img/fighter/thumb_h/mewtwo.png\",\n",
    "    \"https://www.smashbros.com/assets_v2/img/fighter/thumb_h/roy.png\",\n",
    "    \"https://www.smashbros.com/assets_v2/img/fighter/thumb_h/chrom.png\",\n",
    "    \"https://www.smashbros.com/assets_v2/img/fighter/thumb_h/mr_game_and_watch.png\",\n",
    "    \"https://www.smashbros.com/assets_v2/img/fighter/thumb_h/meta_knight.png\",\n",
    "    \"https://www.smashbros.com/assets_v2/img/fighter/thumb_h/pit.png\",\n",
    "    \"https://www.smashbros.com/assets_v2/img/fighter/thumb_h/dark_pit.png\",\n",
    "    \"https://www.smashbros.com/assets_v2/img/fighter/thumb_h/zero_suit_samus.png\",\n",
    "    \"https://www.smashbros.com/assets_v2/img/fighter/thumb_h/wario.png\",\n",
    "    \"https://www.smashbros.com/assets_v2/img/fighter/thumb_h/snake.png\",\n",
    "    \"https://www.smashbros.com/assets_v2/img/fighter/thumb_h/ike.png\",\n",
    "    \"https://www.smashbros.com/assets_v2/img/fighter/thumb_h/pokemon_trainer.png\",\n",
    "    \"https://www.smashbros.com/assets_v2/img/fighter/thumb_h/diddy_kong.png\",\n",
    "    \"https://www.smashbros.com/assets_v2/img/fighter/thumb_h/lucas.png\",\n",
    "    \"https://www.smashbros.com/assets_v2/img/fighter/thumb_h/sonic.png\",\n",
    "    \"https://www.smashbros.com/assets_v2/img/fighter/thumb_h/king_dedede.png\",\n",
    "    \"https://www.smashbros.com/assets_v2/img/fighter/thumb_h/olimar.png\",\n",
    "    \"https://www.smashbros.com/assets_v2/img/fighter/thumb_h/lucario.png\",\n",
    "    \"https://www.smashbros.com/assets_v2/img/fighter/thumb_h/rob.png\",\n",
    "    \"https://www.smashbros.com/assets_v2/img/fighter/thumb_h/toon_link.png\",\n",
    "    \"https://www.smashbros.com/assets_v2/img/fighter/thumb_h/wolf.png\",\n",
    "    \"https://www.smashbros.com/assets_v2/img/fighter/thumb_h/villager.png\",\n",
    "    \"https://www.smashbros.com/assets_v2/img/fighter/thumb_h/mega_man.png\",\n",
    "    \"https://www.smashbros.com/assets_v2/img/fighter/thumb_h/wii_fit_trainer.png\",\n",
    "    \"https://www.smashbros.com/assets_v2/img/fighter/thumb_h/rosalina_and_luma.png\",\n",
    "    \"https://www.smashbros.com/assets_v2/img/fighter/thumb_h/little_mac.png\",\n",
    "    \"https://www.smashbros.com/assets_v2/img/fighter/thumb_h/greninja.png\",\n",
    "    \"https://www.smashbros.com/assets_v2/img/fighter/thumb_h/mii_fighter.png\",\n",
    "    \"https://www.smashbros.com/assets_v2/img/fighter/thumb_h/palutena.png\",\n",
    "    \"https://www.smashbros.com/assets_v2/img/fighter/thumb_h/pac_man.png\",\n",
    "    \"https://www.smashbros.com/assets_v2/img/fighter/thumb_h/robin.png\",\n",
    "    \"https://www.smashbros.com/assets_v2/img/fighter/thumb_h/shulk.png\",\n",
    "    \"https://www.smashbros.com/assets_v2/img/fighter/thumb_h/bowser_jr.png\",\n",
    "    \"https://www.smashbros.com/assets_v2/img/fighter/thumb_h/duck_hunt.png\",\n",
    "    \"https://www.smashbros.com/assets_v2/img/fighter/thumb_h/ryu.png\",\n",
    "    \"https://www.smashbros.com/assets_v2/img/fighter/thumb_h/ken.png\",\n",
    "    \"https://www.smashbros.com/assets_v2/img/fighter/thumb_h/cloud.png\",\n",
    "    \"https://www.smashbros.com/assets_v2/img/fighter/thumb_h/corrin.png\",\n",
    "    \"https://www.smashbros.com/assets_v2/img/fighter/thumb_h/bayonetta.png\",\n",
    "    \"https://www.smashbros.com/assets_v2/img/fighter/thumb_h/inkling.png\",\n",
    "    \"https://www.smashbros.com/assets_v2/img/fighter/thumb_h/ridley.png\",\n",
    "    \"https://www.smashbros.com/assets_v2/img/fighter/thumb_h/simon.png\",\n",
    "    \"https://www.smashbros.com/assets_v2/img/fighter/thumb_h/richter.png\",\n",
    "    \"https://www.smashbros.com/assets_v2/img/fighter/thumb_h/king_k_rool.png\",\n",
    "    \"https://www.smashbros.com/assets_v2/img/fighter/thumb_h/shizue.png\",\n",
    "    \"https://www.smashbros.com/assets_v2/img/fighter/thumb_h/gaogaen.png\",\n",
    "]"
   ]
  },
  {
   "cell_type": "code",
   "execution_count": 11,
   "id": "960affb6",
   "metadata": {},
   "outputs": [],
   "source": [
    "!mkdir -p /Users/ahmedelzeiny/Documents/practice/smash-audio/smash-pic-png/"
   ]
  },
  {
   "cell_type": "code",
   "execution_count": 12,
   "id": "f5f3a9ff",
   "metadata": {},
   "outputs": [
    {
     "name": "stderr",
     "output_type": "stream",
     "text": [
      "100%|██████████| 84/84 [00:08<00:00,  9.83it/s]\n"
     ]
    }
   ],
   "source": [
    "import os\n",
    "import tqdm\n",
    "for url in tqdm.tqdm(imgs):\n",
    "    r = requests.get(url, allow_redirects=True)\n",
    "    filename = os.path.basename(url)\n",
    "    with open('/Users/ahmedelzeiny/Documents/practice/smash-audio/smash-pic-png/' + filename, 'wb') as f:\n",
    "        f.write(r.content)"
   ]
  },
  {
   "cell_type": "code",
   "execution_count": null,
   "id": "08a48751",
   "metadata": {},
   "outputs": [],
   "source": []
  },
  {
   "cell_type": "code",
   "execution_count": 13,
   "id": "cf12c7dc",
   "metadata": {},
   "outputs": [],
   "source": [
    "import json"
   ]
  },
  {
   "cell_type": "code",
   "execution_count": 16,
   "id": "3041f2ca",
   "metadata": {},
   "outputs": [],
   "source": [
    "with open('./sounds_of_smash.json') as f:\n",
    "    smash = json.load(f)"
   ]
  },
  {
   "cell_type": "code",
   "execution_count": 43,
   "id": "74bd0b10",
   "metadata": {},
   "outputs": [],
   "source": [
    "import re"
   ]
  },
  {
   "cell_type": "code",
   "execution_count": 44,
   "id": "f06a7214",
   "metadata": {},
   "outputs": [
    {
     "data": {
      "text/plain": [
       "'Pyra_Mithra_kun'"
      ]
     },
     "execution_count": 44,
     "metadata": {},
     "output_type": "execute_result"
    }
   ],
   "source": []
  },
  {
   "cell_type": "code",
   "execution_count": 58,
   "id": "45ead924",
   "metadata": {},
   "outputs": [],
   "source": [
    "def char_to_file(c):\n",
    "    a = re.sub('( / )|\\s', '_', c.lower())\n",
    "    b = re.sub('&', 'and', a)\n",
    "    return re.sub('\\.', '', b)"
   ]
  },
  {
   "cell_type": "code",
   "execution_count": 65,
   "id": "84bdffea",
   "metadata": {},
   "outputs": [],
   "source": [
    "raw_chars = sorted(set([\n",
    "    c\n",
    "    for r in smash\n",
    "    for c in r['chars']\n",
    "]))"
   ]
  },
  {
   "cell_type": "code",
   "execution_count": 66,
   "id": "cb873c2c",
   "metadata": {
    "scrolled": false
   },
   "outputs": [
    {
     "name": "stdout",
     "output_type": "stream",
     "text": [
      "Banjo & Kazooie\n",
      "Bayonetta\n",
      "Bowser\n",
      "Bowser Jr.\n",
      "Byleth\n",
      "Captain Falcon\n",
      "Chrom\n",
      "Cloud\n",
      "Corrin\n",
      "Daisy\n",
      "Dark Pit\n",
      "Dark Samus\n",
      "Diddy Kong\n",
      "Donkey Kong\n",
      "Dr. Mario\n",
      "Duck Hunt\n",
      "Falco\n",
      "Fox\n",
      "Ganondorf\n",
      "Greninja\n",
      "Hero\n",
      "Ice Climbers\n",
      "Ike\n",
      "Inceneroar\n",
      "Inkling\n",
      "Isabelle\n",
      "Jigglypuff\n",
      "Joker\n",
      "Kazuya\n",
      "Ken\n",
      "King Dedede\n",
      "King K. Rool\n",
      "Kirby\n",
      "Link\n",
      "Little Mac\n",
      "Lucario\n",
      "Lucas\n",
      "Lucina\n",
      "Luigi\n",
      "Mario\n",
      "Marth\n",
      "Mega Man\n",
      "Meta Knight\n",
      "Mewtwo\n",
      "Mii\n",
      "Min Min\n",
      "Mr. Game & Watch\n",
      "Ness\n",
      "Olimar\n",
      "Pac Man\n",
      "Palutena\n",
      "Peach\n",
      "Pichu\n",
      "Pikachu\n",
      "Piranha Plant\n",
      "Pit\n",
      "Pokemon Trainer\n",
      "Pyra / Mithra\n",
      "Richter\n",
      "Ridley\n",
      "Rob\n",
      "Robin\n",
      "Rosalina & Luma\n",
      "Roy\n",
      "Ryu\n",
      "Samus\n",
      "Sephiroth\n",
      "Sheik\n",
      "Shulk\n",
      "Simon\n",
      "Snake\n",
      "Sonic\n",
      "Sora\n",
      "Steve / Alex\n",
      "Terry\n",
      "Toon Link\n",
      "Villager\n",
      "Wario\n",
      "Wii Fit Trainer\n",
      "Wolf\n",
      "Yoshi\n",
      "Young Link\n",
      "Zelda\n",
      "Zero Suit Samus\n"
     ]
    }
   ],
   "source": [
    "print('\\n'.join(raw_chars))"
   ]
  },
  {
   "cell_type": "code",
   "execution_count": 55,
   "id": "34661de0",
   "metadata": {},
   "outputs": [],
   "source": [
    "chars = set([\n",
    "    char_to_file(c)\n",
    "    for c in raw_chars\n",
    "])"
   ]
  },
  {
   "cell_type": "code",
   "execution_count": 56,
   "id": "5971fdf7",
   "metadata": {},
   "outputs": [],
   "source": [
    "files = set([\n",
    "    x[:-len('.png')] for x in os.listdir('/Users/ahmedelzeiny/Documents/practice/smash-audio/smash-pic-png/')\n",
    "])"
   ]
  },
  {
   "cell_type": "code",
   "execution_count": 57,
   "id": "dc045aa4",
   "metadata": {},
   "outputs": [
    {
     "data": {
      "text/plain": [
       "set()"
      ]
     },
     "execution_count": 57,
     "metadata": {},
     "output_type": "execute_result"
    }
   ],
   "source": [
    "chars - files"
   ]
  }
 ],
 "metadata": {
  "kernelspec": {
   "display_name": "Python 3",
   "language": "python",
   "name": "python3"
  },
  "language_info": {
   "codemirror_mode": {
    "name": "ipython",
    "version": 3
   },
   "file_extension": ".py",
   "mimetype": "text/x-python",
   "name": "python",
   "nbconvert_exporter": "python",
   "pygments_lexer": "ipython3",
   "version": "3.6.13"
  }
 },
 "nbformat": 4,
 "nbformat_minor": 5
}
